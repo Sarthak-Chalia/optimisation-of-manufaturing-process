{
 "cells": [
  {
   "cell_type": "code",
   "execution_count": 1,
   "id": "e2a2119a",
   "metadata": {},
   "outputs": [
    {
     "name": "stdout",
     "output_type": "stream",
     "text": [
      "Optimal number of workers: 20\n",
      "Optimal number of machines: 39\n",
      "Minimum operational cost: $4204.21\n"
     ]
    }
   ],
   "source": [
    "import numpy as np\n",
    "from scipy.optimize import differential_evolution\n",
    "\n",
    "# Synthetic Data - setting up some parameters\n",
    "def operational_cost(x):\n",
    "    workers, machines = x\n",
    "    productivity = 1000  # target productivity\n",
    "    cost_workers = 50  # cost per worker\n",
    "    cost_machines = 80  # cost per machine\n",
    "    penalty = 0\n",
    "    \n",
    "    # Productivity formula: assume productivity depends on both workers and machines\n",
    "    actual_productivity = (workers * 10) + (machines * 20)\n",
    "    \n",
    "    # Apply penalty if productivity is lower than target\n",
    "    if actual_productivity < productivity:\n",
    "        penalty = (productivity - actual_productivity) * 10\n",
    "    \n",
    "    # Total cost is sum of workers, machines, and penalties for underproduction\n",
    "    total_cost = (workers * cost_workers) + (machines * cost_machines) + penalty\n",
    "    return total_cost\n",
    "\n",
    "# Particle Swarm Optimization using differential evolution\n",
    "bounds = [(20, 100), (10, 60)]  # Boundaries for workers and machines\n",
    "\n",
    "# Running the optimization\n",
    "result = differential_evolution(operational_cost, bounds, maxiter=1000)\n",
    "optimal_workers, optimal_machines = result.x\n",
    "\n",
    "print(f\"Optimal number of workers: {int(optimal_workers)}\")\n",
    "print(f\"Optimal number of machines: {int(optimal_machines)}\")\n",
    "print(f\"Minimum operational cost: ${result.fun:.2f}\")"
   ]
  },
  {
   "cell_type": "code",
   "execution_count": null,
   "id": "f93d9762",
   "metadata": {},
   "outputs": [],
   "source": []
  }
 ],
 "metadata": {
  "kernelspec": {
   "display_name": "Python 3 (ipykernel)",
   "language": "python",
   "name": "python3"
  },
  "language_info": {
   "codemirror_mode": {
    "name": "ipython",
    "version": 3
   },
   "file_extension": ".py",
   "mimetype": "text/x-python",
   "name": "python",
   "nbconvert_exporter": "python",
   "pygments_lexer": "ipython3",
   "version": "3.11.5"
  }
 },
 "nbformat": 4,
 "nbformat_minor": 5
}
